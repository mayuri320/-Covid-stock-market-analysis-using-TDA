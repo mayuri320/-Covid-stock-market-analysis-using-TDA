{
  "nbformat": 4,
  "nbformat_minor": 5,
  "metadata": {
    "kernelspec": {
      "display_name": "Python 3",
      "language": "python",
      "name": "python3"
    },
    "language_info": {
      "codemirror_mode": {
        "name": "ipython",
        "version": 3
      },
      "file_extension": ".py",
      "mimetype": "text/x-python",
      "name": "python",
      "nbconvert_exporter": "python",
      "pygments_lexer": "ipython3",
      "version": "3.8.8"
    },
    "toc": {
      "base_numbering": 1,
      "nav_menu": {},
      "number_sections": true,
      "sideBar": true,
      "skip_h1_title": false,
      "title_cell": "Table of Contents",
      "title_sidebar": "Contents",
      "toc_cell": false,
      "toc_position": {
        "height": "calc(100% - 180px)",
        "left": "10px",
        "top": "150px",
        "width": "219.433px"
      },
      "toc_section_display": true,
      "toc_window_display": true
    },
    "colab": {
      "provenance": [],
      "include_colab_link": true
    }
  },
  "cells": [
    {
      "cell_type": "markdown",
      "metadata": {
        "id": "view-in-github",
        "colab_type": "text"
      },
      "source": [
        "<a href=\"https://colab.research.google.com/github/mayuri320/-Covid-stock-market-analysis-using-TDA/blob/main/Insaid_Internship_Task_(1).ipynb\" target=\"_parent\"><img src=\"https://colab.research.google.com/assets/colab-badge.svg\" alt=\"Open In Colab\"/></a>"
      ]
    },
    {
      "cell_type": "markdown",
      "metadata": {
        "id": "a8718c03"
      },
      "source": [
        "# Internship Task\n",
        "**`Busniness Context`**:\n",
        "\n",
        "This case requires trainees to develop a model for predicting fraudulent transactions for a financial company and use insights from the model to develop an actionable plan. Data for the  case is available in .csv format having 6362620 rows and 10 columns.\n",
        "Candidates can use whatever method they wish to develop their machine learning model. Following usual model development procedures, the model would be estimated on the  calibration data and tested on the validation data. This case requires both statistical analysis and  creativity/judgment. We recommend you spend time on both fine tuning and interpreting the results of your machine learning model.\n",
        "\n",
        "**`Data Dictionary`**:\n",
        "\n",
        "1. **step** - maps a unit of time in the real world. In this case 1 step is 1 hour of time. Total steps 744 (30 days simulation).\n",
        "2. **type** - CASH-IN, CASH-OUT, DEBIT, PAYMENT and TRANSFER.\n",
        "3. **amount** - amount of the transaction in local currency.\n",
        "4. **nameOrig** - customer who started the transaction.\n",
        "5. **oldbalanceOrg** - initial balance before the transaction.\n",
        "6. **newbalanceOrig** - new balance after the transaction.\n",
        "7. **nameDest** - customer who is the recipient of the transaction.\n",
        "8. **oldbalanceDest** - initial balance recipient before the transaction. Note that there is not information for customers that start with M (Merchants).\n",
        "9. **newbalanceDest** - new balance recipient after the transaction. Note that there is not information for customers that start with M (Merchants).\n",
        "10. **isFraud** - This is the transactions made by the fraudulent agents inside the simulation. In this specific dataset the fraudulent behavior of the agents aims to profit by taking control or customers accounts and try to empty the funds by transferring to another account and then cashing out of the system.\n",
        "11. **isFlaggedFraud** - The business model aims to control massive transfers from one account to another and flags illegal attempts. An illegal attempt in this dataset is an attempt to transfer more than 200.000 in a single transaction."
      ],
      "id": "a8718c03"
    },
    {
      "cell_type": "markdown",
      "metadata": {
        "id": "6ff2abb5"
      },
      "source": [
        "## Importing libraries"
      ],
      "id": "6ff2abb5"
    },
    {
      "cell_type": "code",
      "metadata": {
        "ExecuteTime": {
          "end_time": "2021-07-28T08:32:09.672418Z",
          "start_time": "2021-07-28T08:32:03.881168Z"
        },
        "id": "391fb950"
      },
      "source": [
        "# for dealing with dataframes\n",
        "import pandas as pd\n",
        "pd.set_option('display.max_columns',None)\n",
        "pd.set_option('display.expand_frame_repr',False)\n",
        "pd.set_option('display.max_colwidth',100)\n",
        "\n",
        "# for visualization\n",
        "import plotly.express as px\n",
        "\n",
        "import seaborn as sns\n",
        "sns.set_style('whitegrid')\n",
        "import matplotlib.pyplot as plt\n",
        "\n",
        "# for mathematical operations\n",
        "import numpy as np\n",
        "\n",
        "# for ml in pycaret\n",
        "from pycaret.classification import *"
      ],
      "id": "391fb950",
      "execution_count": null,
      "outputs": []
    },
    {
      "cell_type": "markdown",
      "metadata": {
        "id": "59c5b4da"
      },
      "source": [
        "## Reading data set"
      ],
      "id": "59c5b4da"
    },
    {
      "cell_type": "code",
      "metadata": {
        "ExecuteTime": {
          "end_time": "2021-07-28T08:32:20.768082Z",
          "start_time": "2021-07-28T08:32:09.672418Z"
        },
        "id": "6d68ef73"
      },
      "source": [
        "data=pd.read_csv('Fraud.csv')"
      ],
      "id": "6d68ef73",
      "execution_count": null,
      "outputs": []
    },
    {
      "cell_type": "markdown",
      "metadata": {
        "id": "c3f7b155"
      },
      "source": [
        "## Taking a look through dataset\n",
        "\n",
        "\n"
      ],
      "id": "c3f7b155"
    },
    {
      "cell_type": "code",
      "metadata": {
        "ExecuteTime": {
          "end_time": "2021-07-28T08:32:20.815360Z",
          "start_time": "2021-07-28T08:32:20.768082Z"
        },
        "id": "c0462fa3",
        "outputId": "092d4fb5-da96-4071-9f81-c05d2eaab3dc"
      },
      "source": [
        "data"
      ],
      "id": "c0462fa3",
      "execution_count": null,
      "outputs": [
        {
          "output_type": "execute_result",
          "data": {
            "text/html": [
              "<div>\n",
              "<style scoped>\n",
              "    .dataframe tbody tr th:only-of-type {\n",
              "        vertical-align: middle;\n",
              "    }\n",
              "\n",
              "    .dataframe tbody tr th {\n",
              "        vertical-align: top;\n",
              "    }\n",
              "\n",
              "    .dataframe thead th {\n",
              "        text-align: right;\n",
              "    }\n",
              "</style>\n",
              "<table border=\"1\" class=\"dataframe\">\n",
              "  <thead>\n",
              "    <tr style=\"text-align: right;\">\n",
              "      <th></th>\n",
              "      <th>step</th>\n",
              "      <th>type</th>\n",
              "      <th>amount</th>\n",
              "      <th>nameOrig</th>\n",
              "      <th>oldbalanceOrg</th>\n",
              "      <th>newbalanceOrig</th>\n",
              "      <th>nameDest</th>\n",
              "      <th>oldbalanceDest</th>\n",
              "      <th>newbalanceDest</th>\n",
              "      <th>isFraud</th>\n",
              "      <th>isFlaggedFraud</th>\n",
              "    </tr>\n",
              "  </thead>\n",
              "  <tbody>\n",
              "    <tr>\n",
              "      <th>0</th>\n",
              "      <td>1</td>\n",
              "      <td>PAYMENT</td>\n",
              "      <td>9839.64</td>\n",
              "      <td>C1231006815</td>\n",
              "      <td>170136.00</td>\n",
              "      <td>160296.36</td>\n",
              "      <td>M1979787155</td>\n",
              "      <td>0.00</td>\n",
              "      <td>0.00</td>\n",
              "      <td>0</td>\n",
              "      <td>0</td>\n",
              "    </tr>\n",
              "    <tr>\n",
              "      <th>1</th>\n",
              "      <td>1</td>\n",
              "      <td>PAYMENT</td>\n",
              "      <td>1864.28</td>\n",
              "      <td>C1666544295</td>\n",
              "      <td>21249.00</td>\n",
              "      <td>19384.72</td>\n",
              "      <td>M2044282225</td>\n",
              "      <td>0.00</td>\n",
              "      <td>0.00</td>\n",
              "      <td>0</td>\n",
              "      <td>0</td>\n",
              "    </tr>\n",
              "    <tr>\n",
              "      <th>2</th>\n",
              "      <td>1</td>\n",
              "      <td>TRANSFER</td>\n",
              "      <td>181.00</td>\n",
              "      <td>C1305486145</td>\n",
              "      <td>181.00</td>\n",
              "      <td>0.00</td>\n",
              "      <td>C553264065</td>\n",
              "      <td>0.00</td>\n",
              "      <td>0.00</td>\n",
              "      <td>1</td>\n",
              "      <td>0</td>\n",
              "    </tr>\n",
              "    <tr>\n",
              "      <th>3</th>\n",
              "      <td>1</td>\n",
              "      <td>CASH_OUT</td>\n",
              "      <td>181.00</td>\n",
              "      <td>C840083671</td>\n",
              "      <td>181.00</td>\n",
              "      <td>0.00</td>\n",
              "      <td>C38997010</td>\n",
              "      <td>21182.00</td>\n",
              "      <td>0.00</td>\n",
              "      <td>1</td>\n",
              "      <td>0</td>\n",
              "    </tr>\n",
              "    <tr>\n",
              "      <th>4</th>\n",
              "      <td>1</td>\n",
              "      <td>PAYMENT</td>\n",
              "      <td>11668.14</td>\n",
              "      <td>C2048537720</td>\n",
              "      <td>41554.00</td>\n",
              "      <td>29885.86</td>\n",
              "      <td>M1230701703</td>\n",
              "      <td>0.00</td>\n",
              "      <td>0.00</td>\n",
              "      <td>0</td>\n",
              "      <td>0</td>\n",
              "    </tr>\n",
              "    <tr>\n",
              "      <th>...</th>\n",
              "      <td>...</td>\n",
              "      <td>...</td>\n",
              "      <td>...</td>\n",
              "      <td>...</td>\n",
              "      <td>...</td>\n",
              "      <td>...</td>\n",
              "      <td>...</td>\n",
              "      <td>...</td>\n",
              "      <td>...</td>\n",
              "      <td>...</td>\n",
              "      <td>...</td>\n",
              "    </tr>\n",
              "    <tr>\n",
              "      <th>6362615</th>\n",
              "      <td>743</td>\n",
              "      <td>CASH_OUT</td>\n",
              "      <td>339682.13</td>\n",
              "      <td>C786484425</td>\n",
              "      <td>339682.13</td>\n",
              "      <td>0.00</td>\n",
              "      <td>C776919290</td>\n",
              "      <td>0.00</td>\n",
              "      <td>339682.13</td>\n",
              "      <td>1</td>\n",
              "      <td>0</td>\n",
              "    </tr>\n",
              "    <tr>\n",
              "      <th>6362616</th>\n",
              "      <td>743</td>\n",
              "      <td>TRANSFER</td>\n",
              "      <td>6311409.28</td>\n",
              "      <td>C1529008245</td>\n",
              "      <td>6311409.28</td>\n",
              "      <td>0.00</td>\n",
              "      <td>C1881841831</td>\n",
              "      <td>0.00</td>\n",
              "      <td>0.00</td>\n",
              "      <td>1</td>\n",
              "      <td>0</td>\n",
              "    </tr>\n",
              "    <tr>\n",
              "      <th>6362617</th>\n",
              "      <td>743</td>\n",
              "      <td>CASH_OUT</td>\n",
              "      <td>6311409.28</td>\n",
              "      <td>C1162922333</td>\n",
              "      <td>6311409.28</td>\n",
              "      <td>0.00</td>\n",
              "      <td>C1365125890</td>\n",
              "      <td>68488.84</td>\n",
              "      <td>6379898.11</td>\n",
              "      <td>1</td>\n",
              "      <td>0</td>\n",
              "    </tr>\n",
              "    <tr>\n",
              "      <th>6362618</th>\n",
              "      <td>743</td>\n",
              "      <td>TRANSFER</td>\n",
              "      <td>850002.52</td>\n",
              "      <td>C1685995037</td>\n",
              "      <td>850002.52</td>\n",
              "      <td>0.00</td>\n",
              "      <td>C2080388513</td>\n",
              "      <td>0.00</td>\n",
              "      <td>0.00</td>\n",
              "      <td>1</td>\n",
              "      <td>0</td>\n",
              "    </tr>\n",
              "    <tr>\n",
              "      <th>6362619</th>\n",
              "      <td>743</td>\n",
              "      <td>CASH_OUT</td>\n",
              "      <td>850002.52</td>\n",
              "      <td>C1280323807</td>\n",
              "      <td>850002.52</td>\n",
              "      <td>0.00</td>\n",
              "      <td>C873221189</td>\n",
              "      <td>6510099.11</td>\n",
              "      <td>7360101.63</td>\n",
              "      <td>1</td>\n",
              "      <td>0</td>\n",
              "    </tr>\n",
              "  </tbody>\n",
              "</table>\n",
              "<p>6362620 rows × 11 columns</p>\n",
              "</div>"
            ],
            "text/plain": [
              "         step      type      amount     nameOrig  oldbalanceOrg  newbalanceOrig     nameDest  oldbalanceDest  newbalanceDest  isFraud  isFlaggedFraud\n",
              "0           1   PAYMENT     9839.64  C1231006815      170136.00       160296.36  M1979787155            0.00            0.00        0               0\n",
              "1           1   PAYMENT     1864.28  C1666544295       21249.00        19384.72  M2044282225            0.00            0.00        0               0\n",
              "2           1  TRANSFER      181.00  C1305486145         181.00            0.00   C553264065            0.00            0.00        1               0\n",
              "3           1  CASH_OUT      181.00   C840083671         181.00            0.00    C38997010        21182.00            0.00        1               0\n",
              "4           1   PAYMENT    11668.14  C2048537720       41554.00        29885.86  M1230701703            0.00            0.00        0               0\n",
              "...       ...       ...         ...          ...            ...             ...          ...             ...             ...      ...             ...\n",
              "6362615   743  CASH_OUT   339682.13   C786484425      339682.13            0.00   C776919290            0.00       339682.13        1               0\n",
              "6362616   743  TRANSFER  6311409.28  C1529008245     6311409.28            0.00  C1881841831            0.00            0.00        1               0\n",
              "6362617   743  CASH_OUT  6311409.28  C1162922333     6311409.28            0.00  C1365125890        68488.84      6379898.11        1               0\n",
              "6362618   743  TRANSFER   850002.52  C1685995037      850002.52            0.00  C2080388513            0.00            0.00        1               0\n",
              "6362619   743  CASH_OUT   850002.52  C1280323807      850002.52            0.00   C873221189      6510099.11      7360101.63        1               0\n",
              "\n",
              "[6362620 rows x 11 columns]"
            ]
          },
          "metadata": {
            "tags": []
          },
          "execution_count": 3
        }
      ]
    },
    {
      "cell_type": "code",
      "metadata": {
        "ExecuteTime": {
          "end_time": "2021-07-28T08:32:20.830985Z",
          "start_time": "2021-07-28T08:32:20.815360Z"
        },
        "id": "18aa5152",
        "outputId": "46fa8224-05ee-4df1-dcb3-302e180008e5"
      },
      "source": [
        "data.info()"
      ],
      "id": "18aa5152",
      "execution_count": null,
      "outputs": [
        {
          "output_type": "stream",
          "text": [
            "<class 'pandas.core.frame.DataFrame'>\n",
            "RangeIndex: 6362620 entries, 0 to 6362619\n",
            "Data columns (total 11 columns):\n",
            " #   Column          Dtype  \n",
            "---  ------          -----  \n",
            " 0   step            int64  \n",
            " 1   type            object \n",
            " 2   amount          float64\n",
            " 3   nameOrig        object \n",
            " 4   oldbalanceOrg   float64\n",
            " 5   newbalanceOrig  float64\n",
            " 6   nameDest        object \n",
            " 7   oldbalanceDest  float64\n",
            " 8   newbalanceDest  float64\n",
            " 9   isFraud         int64  \n",
            " 10  isFlaggedFraud  int64  \n",
            "dtypes: float64(5), int64(3), object(3)\n",
            "memory usage: 534.0+ MB\n"
          ],
          "name": "stdout"
        }
      ]
    },
    {
      "cell_type": "code",
      "metadata": {
        "ExecuteTime": {
          "end_time": "2021-07-28T08:32:32.133787Z",
          "start_time": "2021-07-28T08:32:20.830985Z"
        },
        "id": "7b66cd33",
        "outputId": "2f3316dd-d474-4e8a-9936-3746efbd6100"
      },
      "source": [
        "data.describe(include='all').T"
      ],
      "id": "7b66cd33",
      "execution_count": null,
      "outputs": [
        {
          "output_type": "execute_result",
          "data": {
            "text/html": [
              "<div>\n",
              "<style scoped>\n",
              "    .dataframe tbody tr th:only-of-type {\n",
              "        vertical-align: middle;\n",
              "    }\n",
              "\n",
              "    .dataframe tbody tr th {\n",
              "        vertical-align: top;\n",
              "    }\n",
              "\n",
              "    .dataframe thead th {\n",
              "        text-align: right;\n",
              "    }\n",
              "</style>\n",
              "<table border=\"1\" class=\"dataframe\">\n",
              "  <thead>\n",
              "    <tr style=\"text-align: right;\">\n",
              "      <th></th>\n",
              "      <th>count</th>\n",
              "      <th>unique</th>\n",
              "      <th>top</th>\n",
              "      <th>freq</th>\n",
              "      <th>mean</th>\n",
              "      <th>std</th>\n",
              "      <th>min</th>\n",
              "      <th>25%</th>\n",
              "      <th>50%</th>\n",
              "      <th>75%</th>\n",
              "      <th>max</th>\n",
              "    </tr>\n",
              "  </thead>\n",
              "  <tbody>\n",
              "    <tr>\n",
              "      <th>step</th>\n",
              "      <td>6362620.0</td>\n",
              "      <td>NaN</td>\n",
              "      <td>NaN</td>\n",
              "      <td>NaN</td>\n",
              "      <td>243.397246</td>\n",
              "      <td>142.331971</td>\n",
              "      <td>1.0</td>\n",
              "      <td>156.0</td>\n",
              "      <td>239.0</td>\n",
              "      <td>335.0</td>\n",
              "      <td>743.0</td>\n",
              "    </tr>\n",
              "    <tr>\n",
              "      <th>type</th>\n",
              "      <td>6362620</td>\n",
              "      <td>5</td>\n",
              "      <td>CASH_OUT</td>\n",
              "      <td>2237500</td>\n",
              "      <td>NaN</td>\n",
              "      <td>NaN</td>\n",
              "      <td>NaN</td>\n",
              "      <td>NaN</td>\n",
              "      <td>NaN</td>\n",
              "      <td>NaN</td>\n",
              "      <td>NaN</td>\n",
              "    </tr>\n",
              "    <tr>\n",
              "      <th>amount</th>\n",
              "      <td>6362620.0</td>\n",
              "      <td>NaN</td>\n",
              "      <td>NaN</td>\n",
              "      <td>NaN</td>\n",
              "      <td>179861.903549</td>\n",
              "      <td>603858.231463</td>\n",
              "      <td>0.0</td>\n",
              "      <td>13389.57</td>\n",
              "      <td>74871.94</td>\n",
              "      <td>208721.4775</td>\n",
              "      <td>92445516.64</td>\n",
              "    </tr>\n",
              "    <tr>\n",
              "      <th>nameOrig</th>\n",
              "      <td>6362620</td>\n",
              "      <td>6353307</td>\n",
              "      <td>C1832548028</td>\n",
              "      <td>3</td>\n",
              "      <td>NaN</td>\n",
              "      <td>NaN</td>\n",
              "      <td>NaN</td>\n",
              "      <td>NaN</td>\n",
              "      <td>NaN</td>\n",
              "      <td>NaN</td>\n",
              "      <td>NaN</td>\n",
              "    </tr>\n",
              "    <tr>\n",
              "      <th>oldbalanceOrg</th>\n",
              "      <td>6362620.0</td>\n",
              "      <td>NaN</td>\n",
              "      <td>NaN</td>\n",
              "      <td>NaN</td>\n",
              "      <td>833883.104074</td>\n",
              "      <td>2888242.673007</td>\n",
              "      <td>0.0</td>\n",
              "      <td>0.0</td>\n",
              "      <td>14208.0</td>\n",
              "      <td>107315.175</td>\n",
              "      <td>59585040.37</td>\n",
              "    </tr>\n",
              "    <tr>\n",
              "      <th>newbalanceOrig</th>\n",
              "      <td>6362620.0</td>\n",
              "      <td>NaN</td>\n",
              "      <td>NaN</td>\n",
              "      <td>NaN</td>\n",
              "      <td>855113.668579</td>\n",
              "      <td>2924048.502971</td>\n",
              "      <td>0.0</td>\n",
              "      <td>0.0</td>\n",
              "      <td>0.0</td>\n",
              "      <td>144258.41</td>\n",
              "      <td>49585040.37</td>\n",
              "    </tr>\n",
              "    <tr>\n",
              "      <th>nameDest</th>\n",
              "      <td>6362620</td>\n",
              "      <td>2722362</td>\n",
              "      <td>C1286084959</td>\n",
              "      <td>113</td>\n",
              "      <td>NaN</td>\n",
              "      <td>NaN</td>\n",
              "      <td>NaN</td>\n",
              "      <td>NaN</td>\n",
              "      <td>NaN</td>\n",
              "      <td>NaN</td>\n",
              "      <td>NaN</td>\n",
              "    </tr>\n",
              "    <tr>\n",
              "      <th>oldbalanceDest</th>\n",
              "      <td>6362620.0</td>\n",
              "      <td>NaN</td>\n",
              "      <td>NaN</td>\n",
              "      <td>NaN</td>\n",
              "      <td>1100701.66652</td>\n",
              "      <td>3399180.112969</td>\n",
              "      <td>0.0</td>\n",
              "      <td>0.0</td>\n",
              "      <td>132705.665</td>\n",
              "      <td>943036.7075</td>\n",
              "      <td>356015889.35</td>\n",
              "    </tr>\n",
              "    <tr>\n",
              "      <th>newbalanceDest</th>\n",
              "      <td>6362620.0</td>\n",
              "      <td>NaN</td>\n",
              "      <td>NaN</td>\n",
              "      <td>NaN</td>\n",
              "      <td>1224996.398202</td>\n",
              "      <td>3674128.942094</td>\n",
              "      <td>0.0</td>\n",
              "      <td>0.0</td>\n",
              "      <td>214661.44</td>\n",
              "      <td>1111909.25</td>\n",
              "      <td>356179278.92</td>\n",
              "    </tr>\n",
              "    <tr>\n",
              "      <th>isFraud</th>\n",
              "      <td>6362620.0</td>\n",
              "      <td>NaN</td>\n",
              "      <td>NaN</td>\n",
              "      <td>NaN</td>\n",
              "      <td>0.001291</td>\n",
              "      <td>0.035905</td>\n",
              "      <td>0.0</td>\n",
              "      <td>0.0</td>\n",
              "      <td>0.0</td>\n",
              "      <td>0.0</td>\n",
              "      <td>1.0</td>\n",
              "    </tr>\n",
              "    <tr>\n",
              "      <th>isFlaggedFraud</th>\n",
              "      <td>6362620.0</td>\n",
              "      <td>NaN</td>\n",
              "      <td>NaN</td>\n",
              "      <td>NaN</td>\n",
              "      <td>0.000003</td>\n",
              "      <td>0.001586</td>\n",
              "      <td>0.0</td>\n",
              "      <td>0.0</td>\n",
              "      <td>0.0</td>\n",
              "      <td>0.0</td>\n",
              "      <td>1.0</td>\n",
              "    </tr>\n",
              "  </tbody>\n",
              "</table>\n",
              "</div>"
            ],
            "text/plain": [
              "                    count   unique          top     freq            mean             std  min       25%         50%          75%           max\n",
              "step            6362620.0      NaN          NaN      NaN      243.397246      142.331971  1.0     156.0       239.0        335.0         743.0\n",
              "type              6362620        5     CASH_OUT  2237500             NaN             NaN  NaN       NaN         NaN          NaN           NaN\n",
              "amount          6362620.0      NaN          NaN      NaN   179861.903549   603858.231463  0.0  13389.57    74871.94  208721.4775   92445516.64\n",
              "nameOrig          6362620  6353307  C1832548028        3             NaN             NaN  NaN       NaN         NaN          NaN           NaN\n",
              "oldbalanceOrg   6362620.0      NaN          NaN      NaN   833883.104074  2888242.673007  0.0       0.0     14208.0   107315.175   59585040.37\n",
              "newbalanceOrig  6362620.0      NaN          NaN      NaN   855113.668579  2924048.502971  0.0       0.0         0.0    144258.41   49585040.37\n",
              "nameDest          6362620  2722362  C1286084959      113             NaN             NaN  NaN       NaN         NaN          NaN           NaN\n",
              "oldbalanceDest  6362620.0      NaN          NaN      NaN   1100701.66652  3399180.112969  0.0       0.0  132705.665  943036.7075  356015889.35\n",
              "newbalanceDest  6362620.0      NaN          NaN      NaN  1224996.398202  3674128.942094  0.0       0.0   214661.44   1111909.25  356179278.92\n",
              "isFraud         6362620.0      NaN          NaN      NaN        0.001291        0.035905  0.0       0.0         0.0          0.0           1.0\n",
              "isFlaggedFraud  6362620.0      NaN          NaN      NaN        0.000003        0.001586  0.0       0.0         0.0          0.0           1.0"
            ]
          },
          "metadata": {
            "tags": []
          },
          "execution_count": 5
        }
      ]
    },
    {
      "cell_type": "code",
      "metadata": {
        "ExecuteTime": {
          "end_time": "2021-07-28T08:32:40.877950Z",
          "start_time": "2021-07-28T08:32:32.133787Z"
        },
        "id": "bae100b9",
        "outputId": "db7a015d-e047-4413-bb4f-38cf0cf290ff"
      },
      "source": [
        "data.nunique()"
      ],
      "id": "bae100b9",
      "execution_count": null,
      "outputs": [
        {
          "output_type": "execute_result",
          "data": {
            "text/plain": [
              "step                  743\n",
              "type                    5\n",
              "amount            5316900\n",
              "nameOrig          6353307\n",
              "oldbalanceOrg     1845844\n",
              "newbalanceOrig    2682586\n",
              "nameDest          2722362\n",
              "oldbalanceDest    3614697\n",
              "newbalanceDest    3555499\n",
              "isFraud                 2\n",
              "isFlaggedFraud          2\n",
              "dtype: int64"
            ]
          },
          "metadata": {
            "tags": []
          },
          "execution_count": 6
        }
      ]
    },
    {
      "cell_type": "code",
      "metadata": {
        "ExecuteTime": {
          "end_time": "2021-07-28T08:32:41.489675Z",
          "start_time": "2021-07-28T08:32:40.877950Z"
        },
        "id": "fd6bfc56",
        "outputId": "fd49f6d1-bc98-41b3-d4da-a0389514132f"
      },
      "source": [
        "data.isnull().sum()/len(data)*100"
      ],
      "id": "fd6bfc56",
      "execution_count": null,
      "outputs": [
        {
          "output_type": "execute_result",
          "data": {
            "text/plain": [
              "step              0.0\n",
              "type              0.0\n",
              "amount            0.0\n",
              "nameOrig          0.0\n",
              "oldbalanceOrg     0.0\n",
              "newbalanceOrig    0.0\n",
              "nameDest          0.0\n",
              "oldbalanceDest    0.0\n",
              "newbalanceDest    0.0\n",
              "isFraud           0.0\n",
              "isFlaggedFraud    0.0\n",
              "dtype: float64"
            ]
          },
          "metadata": {
            "tags": []
          },
          "execution_count": 7
        }
      ]
    },
    {
      "cell_type": "markdown",
      "metadata": {
        "id": "f1ac4054"
      },
      "source": [
        "## EDA"
      ],
      "id": "f1ac4054"
    },
    {
      "cell_type": "markdown",
      "metadata": {
        "id": "a597c342"
      },
      "source": [
        "**isFraud**"
      ],
      "id": "a597c342"
    },
    {
      "cell_type": "code",
      "metadata": {
        "ExecuteTime": {
          "end_time": "2021-07-28T08:32:41.536965Z",
          "start_time": "2021-07-28T08:32:41.489675Z"
        },
        "id": "252217b9",
        "outputId": "828ac65e-d112-409c-a0fd-279d66ced045"
      },
      "source": [
        "data['isFraud'].value_counts(normalize=True)*100"
      ],
      "id": "252217b9",
      "execution_count": null,
      "outputs": [
        {
          "output_type": "execute_result",
          "data": {
            "text/plain": [
              "0    99.870918\n",
              "1     0.129082\n",
              "Name: isFraud, dtype: float64"
            ]
          },
          "metadata": {
            "tags": []
          },
          "execution_count": 8
        }
      ]
    },
    {
      "cell_type": "markdown",
      "metadata": {
        "id": "93513535"
      },
      "source": [
        "Target variable is **highly imbalanced**. We will use **recall** as an evaluation metric."
      ],
      "id": "93513535"
    },
    {
      "cell_type": "markdown",
      "metadata": {
        "id": "2116bd2e"
      },
      "source": [
        "**step** vs **isFraud**"
      ],
      "id": "2116bd2e"
    },
    {
      "cell_type": "code",
      "metadata": {
        "ExecuteTime": {
          "end_time": "2021-07-28T09:10:17.209890Z",
          "start_time": "2021-07-28T09:10:16.547735Z"
        },
        "id": "ac65e9fa",
        "outputId": "e0a16429-24b0-49e6-d3be-51f6d2956064"
      },
      "source": [
        "# without outliers\n",
        "f,ax=plt.subplots(figsize=(10,8))\n",
        "g=sns.boxplot(x='isFraud',\n",
        "              y='step',\n",
        "              data=data,\n",
        "              showfliers=False);"
      ],
      "id": "ac65e9fa",
      "execution_count": null,
      "outputs": [
        {
          "output_type": "display_data",
          "data": {
            "image/png": "[encoded data removed]",
            "text/plain": [
              "<Figure size 720x576 with 1 Axes>"
            ]
          },
          "metadata": {
            "tags": []
          }
        }
      ]
    },
    {
      "cell_type": "markdown",
      "metadata": {
        "id": "7e966353"
      },
      "source": [
        "**type** vs **isFraud**"
      ],
      "id": "7e966353"
    },
    {
      "cell_type": "code",
      "metadata": {
        "ExecuteTime": {
          "end_time": "2021-07-28T08:32:42.870962Z",
          "start_time": "2021-07-28T08:32:42.243538Z"
        },
        "id": "2e5b828a",
        "outputId": "69fd0543-fce5-4437-b5e4-484a346c7059"
      },
      "source": [
        "data[['isFraud','type']].value_counts(normalize=True)*100"
      ],
      "id": "2e5b828a",
      "execution_count": null,
      "outputs": [
        {
          "output_type": "execute_result",
          "data": {
            "text/plain": [
              "isFraud  type    \n",
              "0        CASH_OUT    35.101641\n",
              "         PAYMENT     33.814608\n",
              "         CASH_IN     21.992261\n",
              "         TRANSFER     8.311230\n",
              "         DEBIT        0.651178\n",
              "1        CASH_OUT     0.064690\n",
              "         TRANSFER     0.064392\n",
              "dtype: float64"
            ]
          },
          "metadata": {
            "tags": []
          },
          "execution_count": 10
        }
      ]
    },
    {
      "cell_type": "markdown",
      "metadata": {
        "id": "70b9540a"
      },
      "source": [
        "**amount** vs **isFraud**"
      ],
      "id": "70b9540a"
    },
    {
      "cell_type": "code",
      "metadata": {
        "ExecuteTime": {
          "end_time": "2021-07-28T09:16:39.856285Z",
          "start_time": "2021-07-28T09:16:39.136090Z"
        },
        "id": "1d133e69",
        "outputId": "3d3463a7-69a7-4e3b-d358-ad7e1ad74e51"
      },
      "source": [
        "# without outliers\n",
        "f,ax=plt.subplots(figsize=(10,8))\n",
        "g=sns.boxplot(x='isFraud',\n",
        "              y='amount',\n",
        "              data=data,\n",
        "              showfliers=False);"
      ],
      "id": "1d133e69",
      "execution_count": null,
      "outputs": [
        {
          "output_type": "display_data",
          "data": {
            "image/png": "[encoded data removed]",
            "text/plain": [
              "<Figure size 720x576 with 1 Axes>"
            ]
          },
          "metadata": {
            "tags": []
          }
        }
      ]
    },
    {
      "cell_type": "markdown",
      "metadata": {
        "id": "c77d4177"
      },
      "source": [
        "**oldbalanceOrg** vs **isFraud**"
      ],
      "id": "c77d4177"
    },
    {
      "cell_type": "code",
      "metadata": {
        "ExecuteTime": {
          "end_time": "2021-07-28T08:32:44.283341Z",
          "start_time": "2021-07-28T08:32:43.592083Z"
        },
        "id": "60b21025",
        "outputId": "d184f8a6-8414-4d39-b261-24d201ac44d8"
      },
      "source": [
        "# without outliers\n",
        "f,ax=plt.subplots(figsize=(10,8))\n",
        "g=sns.boxplot(x='isFraud',\n",
        "              y='oldbalanceOrg',\n",
        "              data=data,\n",
        "              showfliers=False);"
      ],
      "id": "60b21025",
      "execution_count": null,
      "outputs": [
        {
          "output_type": "display_data",
          "data": {
            "image/png": "[encoded data removed]",
            "text/plain": [
              "<Figure size 720x576 with 1 Axes>"
            ]
          },
          "metadata": {
            "tags": []
          }
        }
      ]
    },
    {
      "cell_type": "markdown",
      "metadata": {
        "id": "d108c72d"
      },
      "source": [
        "**newbalanceOrig** vs **isFraud**"
      ],
      "id": "d108c72d"
    },
    {
      "cell_type": "code",
      "metadata": {
        "ExecuteTime": {
          "end_time": "2021-07-28T08:32:44.974155Z",
          "start_time": "2021-07-28T08:32:44.283341Z"
        },
        "id": "9467954c",
        "outputId": "7b6795e5-dfa8-4dad-f24f-aedb8381382c"
      },
      "source": [
        "# without outliers\n",
        "f,ax=plt.subplots(figsize=(10,8))\n",
        "g=sns.boxplot(x='isFraud',\n",
        "              y='newbalanceOrig',\n",
        "              data=data,\n",
        "              showfliers=False);"
      ],
      "id": "9467954c",
      "execution_count": null,
      "outputs": [
        {
          "output_type": "display_data",
          "data": {
            "image/png": "[encoded data removed]",
            "text/plain": [
              "<Figure size 720x576 with 1 Axes>"
            ]
          },
          "metadata": {
            "tags": []
          }
        }
      ]
    },
    {
      "cell_type": "markdown",
      "metadata": {
        "id": "26c4fd5a"
      },
      "source": [
        "**oldbalanceDest** vs **isFraud**"
      ],
      "id": "26c4fd5a"
    },
    {
      "cell_type": "code",
      "metadata": {
        "ExecuteTime": {
          "end_time": "2021-07-28T08:32:45.665943Z",
          "start_time": "2021-07-28T08:32:44.974155Z"
        },
        "id": "1b8e2592",
        "outputId": "a6ddef89-8d97-4086-8aa4-746a0497a3fc"
      },
      "source": [
        "# without outliers\n",
        "f,ax=plt.subplots(figsize=(10,8))\n",
        "g=sns.boxplot(x='isFraud',\n",
        "              y='oldbalanceDest',\n",
        "              data=data,\n",
        "              showfliers=False);"
      ],
      "id": "1b8e2592",
      "execution_count": null,
      "outputs": [
        {
          "output_type": "display_data",
          "data": {
            "image/png": "[encoded data removed]",
            "text/plain": [
              "<Figure size 720x576 with 1 Axes>"
            ]
          },
          "metadata": {
            "tags": []
          }
        }
      ]
    },
    {
      "cell_type": "markdown",
      "metadata": {
        "id": "2d9ec349"
      },
      "source": [
        "**newbalanceDest** vs **isFraud**"
      ],
      "id": "2d9ec349"
    },
    {
      "cell_type": "code",
      "metadata": {
        "ExecuteTime": {
          "end_time": "2021-07-28T08:32:46.356757Z",
          "start_time": "2021-07-28T08:32:45.665943Z"
        },
        "id": "4bbbfc9e",
        "outputId": "c61b91ac-8e15-4f6b-8f6f-118c5c47df7d"
      },
      "source": [
        "# without outliers\n",
        "f,ax=plt.subplots(figsize=(10,8))\n",
        "g=sns.boxplot(x='isFraud',\n",
        "              y='newbalanceDest',\n",
        "              data=data,\n",
        "              showfliers=False);"
      ],
      "id": "4bbbfc9e",
      "execution_count": null,
      "outputs": [
        {
          "output_type": "display_data",
          "data": {
            "image/png": "[encoded data removed]",
            "text/plain": [
              "<Figure size 720x576 with 1 Axes>"
            ]
          },
          "metadata": {
            "tags": []
          }
        }
      ]
    },
    {
      "cell_type": "markdown",
      "metadata": {
        "id": "ecc03c3f"
      },
      "source": [
        "**isFlaggedFraud** vs **isFraud**"
      ],
      "id": "ecc03c3f"
    },
    {
      "cell_type": "code",
      "metadata": {
        "ExecuteTime": {
          "end_time": "2021-07-28T08:32:46.703337Z",
          "start_time": "2021-07-28T08:32:46.356757Z"
        },
        "id": "ea5082d4",
        "outputId": "2225a6a8-0a9f-4a5d-bfe8-1901cbc964d6"
      },
      "source": [
        "data[['isFraud','isFlaggedFraud']].value_counts(normalize=True)*100"
      ],
      "id": "ea5082d4",
      "execution_count": null,
      "outputs": [
        {
          "output_type": "execute_result",
          "data": {
            "text/plain": [
              "isFraud  isFlaggedFraud\n",
              "0        0                 99.870918\n",
              "1        0                  0.128831\n",
              "         1                  0.000251\n",
              "dtype: float64"
            ]
          },
          "metadata": {
            "tags": []
          },
          "execution_count": 16
        }
      ]
    },
    {
      "cell_type": "markdown",
      "metadata": {
        "id": "078e42cb"
      },
      "source": [
        "**Corelation Plot**"
      ],
      "id": "078e42cb"
    },
    {
      "cell_type": "code",
      "metadata": {
        "ExecuteTime": {
          "end_time": "2021-07-28T08:32:47.943627Z",
          "start_time": "2021-07-28T08:32:46.703337Z"
        },
        "id": "cb5db9a5",
        "outputId": "582a66be-627a-46a6-945c-a7f31c9cc631"
      },
      "source": [
        "data_corr=data.drop(columns=['type','isFraud','isFlaggedFraud'])\n",
        "\n",
        "f,ax=plt.subplots(figsize=(8,7.5))\n",
        "sns.heatmap(data_corr.corr(),\n",
        "            cmap='coolwarm',\n",
        "            annot=True);"
      ],
      "id": "cb5db9a5",
      "execution_count": null,
      "outputs": [
        {
          "output_type": "display_data",
          "data": {
            "image/png": "[encoded data removed]",
            "text/plain": [
              "<Figure size 576x540 with 2 Axes>"
            ]
          },
          "metadata": {
            "tags": []
          }
        }
      ]
    },
    {
      "cell_type": "markdown",
      "metadata": {
        "id": "b10b3ab1"
      },
      "source": [
        "We can see a multicolinearity between some variables, we will drop or create some new variables from them."
      ],
      "id": "b10b3ab1"
    },
    {
      "cell_type": "markdown",
      "metadata": {
        "id": "4b4fa85f"
      },
      "source": [
        "## Feature Engineering"
      ],
      "id": "4b4fa85f"
    },
    {
      "cell_type": "code",
      "metadata": {
        "ExecuteTime": {
          "end_time": "2021-07-28T08:32:48.022215Z",
          "start_time": "2021-07-28T08:32:47.943627Z"
        },
        "id": "ae912c53"
      },
      "source": [
        "data['balanceOrgDiff']=data['newbalanceOrig'] - data['oldbalanceOrg']\n",
        "data['balanceDestDiff']=data['newbalanceDest'] - data['oldbalanceDest']"
      ],
      "id": "ae912c53",
      "execution_count": null,
      "outputs": []
    },
    {
      "cell_type": "code",
      "metadata": {
        "ExecuteTime": {
          "end_time": "2021-07-28T08:32:48.618605Z",
          "start_time": "2021-07-28T08:32:48.022215Z"
        },
        "id": "741ea23e"
      },
      "source": [
        "data=data.drop(columns=['newbalanceOrig','oldbalanceOrg',\n",
        "                        'newbalanceDest','oldbalanceDest'])"
      ],
      "id": "741ea23e",
      "execution_count": null,
      "outputs": []
    },
    {
      "cell_type": "markdown",
      "metadata": {
        "id": "b38a3a9f"
      },
      "source": [
        "**balanceOrgDiff** vs **isFraud**"
      ],
      "id": "b38a3a9f"
    },
    {
      "cell_type": "code",
      "metadata": {
        "ExecuteTime": {
          "end_time": "2021-07-28T08:32:49.466408Z",
          "start_time": "2021-07-28T08:32:48.618605Z"
        },
        "id": "e2fe4b3b",
        "outputId": "02dd84af-28e5-4665-d3d0-a2bd25c441aa"
      },
      "source": [
        "# without outliers\n",
        "f,ax=plt.subplots(figsize=(10,8))\n",
        "g=sns.boxplot(x='isFraud',\n",
        "              y='balanceOrgDiff',\n",
        "              data=data,\n",
        "              showfliers=False);"
      ],
      "id": "e2fe4b3b",
      "execution_count": null,
      "outputs": [
        {
          "output_type": "display_data",
          "data": {
            "image/png": "[encoded data removed]",
            "text/plain": [
              "<Figure size 720x576 with 1 Axes>"
            ]
          },
          "metadata": {
            "tags": []
          }
        }
      ]
    },
    {
      "cell_type": "markdown",
      "metadata": {
        "id": "553f5802"
      },
      "source": [
        "**balanceDestDiff** vs **isFraud**"
      ],
      "id": "553f5802"
    },
    {
      "cell_type": "code",
      "metadata": {
        "ExecuteTime": {
          "end_time": "2021-07-28T08:32:50.203435Z",
          "start_time": "2021-07-28T08:32:49.466408Z"
        },
        "id": "d4b8c5da",
        "outputId": "5c5dc12b-9b3f-4db4-9b34-f73561637ec3"
      },
      "source": [
        "# without outliers\n",
        "f,ax=plt.subplots(figsize=(10,8))\n",
        "g=sns.boxplot(x='isFraud',\n",
        "              y='balanceDestDiff',\n",
        "              data=data,\n",
        "              showfliers=False);"
      ],
      "id": "d4b8c5da",
      "execution_count": null,
      "outputs": [
        {
          "output_type": "display_data",
          "data": {
            "image/png": "[encoded data removed]",
            "text/plain": [
              "<Figure size 720x576 with 1 Axes>"
            ]
          },
          "metadata": {
            "tags": []
          }
        }
      ]
    },
    {
      "cell_type": "code",
      "metadata": {
        "ExecuteTime": {
          "end_time": "2021-07-28T08:32:50.219052Z",
          "start_time": "2021-07-28T08:32:50.203435Z"
        },
        "id": "579bac6a",
        "outputId": "91c2578c-0b62-40de-a8b3-6e368d453c77"
      },
      "source": [
        "data.shape"
      ],
      "id": "579bac6a",
      "execution_count": null,
      "outputs": [
        {
          "output_type": "execute_result",
          "data": {
            "text/plain": [
              "(6362620, 9)"
            ]
          },
          "metadata": {
            "tags": []
          },
          "execution_count": 22
        }
      ]
    },
    {
      "cell_type": "markdown",
      "metadata": {
        "id": "fc98e0e9"
      },
      "source": [
        "## PyCaret\n",
        "- Target variable is isFraud and after EDA we got to know that type of the transaction plays the important role in Fraud most of the Fraud transactions are done though CASH_OUT and TRANSFER.\n",
        "- Normalization is done by using MinMax algorithm."
      ],
      "id": "fc98e0e9"
    },
    {
      "cell_type": "code",
      "metadata": {
        "ExecuteTime": {
          "end_time": "2021-07-28T08:37:54.312418Z",
          "start_time": "2021-07-28T08:36:23.175569Z"
        },
        "id": "085bdd61",
        "outputId": "0de07e4a-2fed-4ac9-bd0b-4ab03c8ac9c1"
      },
      "source": [
        "# preprocessing\n",
        "preprocessing_parameters=setup(data,\n",
        "                               target='isFraud',\n",
        "                               ignore_features=['nameOrig','nameDest'],\n",
        "                               categorical_features=['type','isFlaggedFraud'],\n",
        "                               data_split_stratify=True,\n",
        "                               session_id=1212,\n",
        "                               n_jobs=-1,\n",
        "                               normalize=True,\n",
        "                               normalize_method='minmax',\n",
        "                               fold=5,\n",
        "                               fix_imbalance=True)"
      ],
      "id": "085bdd61",
      "execution_count": null,
      "outputs": [
        {
          "output_type": "display_data",
          "data": {
            "text/html": [
              "<style  type=\"text/css\" >\n",
              "#T_49295_row29_col1,#T_49295_row57_col1{\n",
              "            background-color:  lightgreen;\n",
              "        }</style><table id=\"T_49295_\" ><thead>    <tr>        <th class=\"blank level0\" ></th>        <th class=\"col_heading level0 col0\" >Description</th>        <th class=\"col_heading level0 col1\" >Value</th>    </tr></thead><tbody>\n",
              "                <tr>\n",
              "                        <th id=\"T_49295_level0_row0\" class=\"row_heading level0 row0\" >0</th>\n",
              "                        <td id=\"T_49295_row0_col0\" class=\"data row0 col0\" >session_id</td>\n",
              "                        <td id=\"T_49295_row0_col1\" class=\"data row0 col1\" >1212</td>\n",
              "            </tr>\n",
              "            <tr>\n",
              "                        <th id=\"T_49295_level0_row1\" class=\"row_heading level0 row1\" >1</th>\n",
              "                        <td id=\"T_49295_row1_col0\" class=\"data row1 col0\" >Target</td>\n",
              "                        <td id=\"T_49295_row1_col1\" class=\"data row1 col1\" >isFraud</td>\n",
              "            </tr>\n",
              "            <tr>\n",
              "                        <th id=\"T_49295_level0_row2\" class=\"row_heading level0 row2\" >2</th>\n",
              "                        <td id=\"T_49295_row2_col0\" class=\"data row2 col0\" >Target Type</td>\n",
              "                        <td id=\"T_49295_row2_col1\" class=\"data row2 col1\" >Binary</td>\n",
              "            </tr>\n",
              "            <tr>\n",
              "                        <th id=\"T_49295_level0_row3\" class=\"row_heading level0 row3\" >3</th>\n",
              "                        <td id=\"T_49295_row3_col0\" class=\"data row3 col0\" >Label Encoded</td>\n",
              "                        <td id=\"T_49295_row3_col1\" class=\"data row3 col1\" >0: 0, 1: 1</td>\n",
              "            </tr>\n",
              "            <tr>\n",
              "                        <th id=\"T_49295_level0_row4\" class=\"row_heading level0 row4\" >4</th>\n",
              "                        <td id=\"T_49295_row4_col0\" class=\"data row4 col0\" >Original Data</td>\n",
              "                        <td id=\"T_49295_row4_col1\" class=\"data row4 col1\" >(6362620, 9)</td>\n",
              "            </tr>\n",
              "            <tr>\n",
              "                        <th id=\"T_49295_level0_row5\" class=\"row_heading level0 row5\" >5</th>\n",
              "                        <td id=\"T_49295_row5_col0\" class=\"data row5 col0\" >Missing Values</td>\n",
              "                        <td id=\"T_49295_row5_col1\" class=\"data row5 col1\" >False</td>\n",
              "            </tr>\n",
              "            <tr>\n",
              "                        <th id=\"T_49295_level0_row6\" class=\"row_heading level0 row6\" >6</th>\n",
              "                        <td id=\"T_49295_row6_col0\" class=\"data row6 col0\" >Numeric Features</td>\n",
              "                        <td id=\"T_49295_row6_col1\" class=\"data row6 col1\" >4</td>\n",
              "            </tr>\n",
              "            <tr>\n",
              "                        <th id=\"T_49295_level0_row7\" class=\"row_heading level0 row7\" >7</th>\n",
              "                        <td id=\"T_49295_row7_col0\" class=\"data row7 col0\" >Categorical Features</td>\n",
              "                        <td id=\"T_49295_row7_col1\" class=\"data row7 col1\" >2</td>\n",
              "            </tr>\n",
              "            <tr>\n",
              "                        <th id=\"T_49295_level0_row8\" class=\"row_heading level0 row8\" >8</th>\n",
              "                        <td id=\"T_49295_row8_col0\" class=\"data row8 col0\" >Ordinal Features</td>\n",
              "                        <td id=\"T_49295_row8_col1\" class=\"data row8 col1\" >False</td>\n",
              "            </tr>\n",
              "            <tr>\n",
              "                        <th id=\"T_49295_level0_row9\" class=\"row_heading level0 row9\" >9</th>\n",
              "                        <td id=\"T_49295_row9_col0\" class=\"data row9 col0\" >High Cardinality Features</td>\n",
              "                        <td id=\"T_49295_row9_col1\" class=\"data row9 col1\" >False</td>\n",
              "            </tr>\n",
              "            <tr>\n",
              "                        <th id=\"T_49295_level0_row10\" class=\"row_heading level0 row10\" >10</th>\n",
              "                        <td id=\"T_49295_row10_col0\" class=\"data row10 col0\" >High Cardinality Method</td>\n",
              "                        <td id=\"T_49295_row10_col1\" class=\"data row10 col1\" >None</td>\n",
              "            </tr>\n",
              "            <tr>\n",
              "                        <th id=\"T_49295_level0_row11\" class=\"row_heading level0 row11\" >11</th>\n",
              "                        <td id=\"T_49295_row11_col0\" class=\"data row11 col0\" >Transformed Train Set</td>\n",
              "                        <td id=\"T_49295_row11_col1\" class=\"data row11 col1\" >(4453833, 10)</td>\n",
              "            </tr>\n",
              "            <tr>\n",
              "                        <th id=\"T_49295_level0_row12\" class=\"row_heading level0 row12\" >12</th>\n",
              "                        <td id=\"T_49295_row12_col0\" class=\"data row12 col0\" >Transformed Test Set</td>\n",
              "                        <td id=\"T_49295_row12_col1\" class=\"data row12 col1\" >(1908787, 10)</td>\n",
              "            </tr>\n",
              "            <tr>\n",
              "                        <th id=\"T_49295_level0_row13\" class=\"row_heading level0 row13\" >13</th>\n",
              "                        <td id=\"T_49295_row13_col0\" class=\"data row13 col0\" >Shuffle Train-Test</td>\n",
              "                        <td id=\"T_49295_row13_col1\" class=\"data row13 col1\" >True</td>\n",
              "            </tr>\n",
              "            <tr>\n",
              "                        <th id=\"T_49295_level0_row14\" class=\"row_heading level0 row14\" >14</th>\n",
              "                        <td id=\"T_49295_row14_col0\" class=\"data row14 col0\" >Stratify Train-Test</td>\n",
              "                        <td id=\"T_49295_row14_col1\" class=\"data row14 col1\" >True</td>\n",
              "            </tr>\n",
              "            <tr>\n",
              "                        <th id=\"T_49295_level0_row15\" class=\"row_heading level0 row15\" >15</th>\n",
              "                        <td id=\"T_49295_row15_col0\" class=\"data row15 col0\" >Fold Generator</td>\n",
              "                        <td id=\"T_49295_row15_col1\" class=\"data row15 col1\" >StratifiedKFold</td>\n",
              "            </tr>\n",
              "            <tr>\n",
              "                        <th id=\"T_49295_level0_row16\" class=\"row_heading level0 row16\" >16</th>\n",
              "                        <td id=\"T_49295_row16_col0\" class=\"data row16 col0\" >Fold Number</td>\n",
              "                        <td id=\"T_49295_row16_col1\" class=\"data row16 col1\" >5</td>\n",
              "            </tr>\n",
              "            <tr>\n",
              "                        <th id=\"T_49295_level0_row17\" class=\"row_heading level0 row17\" >17</th>\n",
              "                        <td id=\"T_49295_row17_col0\" class=\"data row17 col0\" >CPU Jobs</td>\n",
              "                        <td id=\"T_49295_row17_col1\" class=\"data row17 col1\" >-1</td>\n",
              "            </tr>\n",
              "            <tr>\n",
              "                        <th id=\"T_49295_level0_row18\" class=\"row_heading level0 row18\" >18</th>\n",
              "                        <td id=\"T_49295_row18_col0\" class=\"data row18 col0\" >Use GPU</td>\n",
              "                        <td id=\"T_49295_row18_col1\" class=\"data row18 col1\" >False</td>\n",
              "            </tr>\n",
              "            <tr>\n",
              "                        <th id=\"T_49295_level0_row19\" class=\"row_heading level0 row19\" >19</th>\n",
              "                        <td id=\"T_49295_row19_col0\" class=\"data row19 col0\" >Log Experiment</td>\n",
              "                        <td id=\"T_49295_row19_col1\" class=\"data row19 col1\" >False</td>\n",
              "            </tr>\n",
              "            <tr>\n",
              "                        <th id=\"T_49295_level0_row20\" class=\"row_heading level0 row20\" >20</th>\n",
              "                        <td id=\"T_49295_row20_col0\" class=\"data row20 col0\" >Experiment Name</td>\n",
              "                        <td id=\"T_49295_row20_col1\" class=\"data row20 col1\" >clf-default-name</td>\n",
              "            </tr>\n",
              "            <tr>\n",
              "                        <th id=\"T_49295_level0_row21\" class=\"row_heading level0 row21\" >21</th>\n",
              "                        <td id=\"T_49295_row21_col0\" class=\"data row21 col0\" >USI</td>\n",
              "                        <td id=\"T_49295_row21_col1\" class=\"data row21 col1\" >4dc0</td>\n",
              "            </tr>\n",
              "            <tr>\n",
              "                        <th id=\"T_49295_level0_row22\" class=\"row_heading level0 row22\" >22</th>\n",
              "                        <td id=\"T_49295_row22_col0\" class=\"data row22 col0\" >Imputation Type</td>\n",
              "                        <td id=\"T_49295_row22_col1\" class=\"data row22 col1\" >simple</td>\n",
              "            </tr>\n",
              "            <tr>\n",
              "                        <th id=\"T_49295_level0_row23\" class=\"row_heading level0 row23\" >23</th>\n",
              "                        <td id=\"T_49295_row23_col0\" class=\"data row23 col0\" >Iterative Imputation Iteration</td>\n",
              "                        <td id=\"T_49295_row23_col1\" class=\"data row23 col1\" >None</td>\n",
              "            </tr>\n",
              "            <tr>\n",
              "                        <th id=\"T_49295_level0_row24\" class=\"row_heading level0 row24\" >24</th>\n",
              "                        <td id=\"T_49295_row24_col0\" class=\"data row24 col0\" >Numeric Imputer</td>\n",
              "                        <td id=\"T_49295_row24_col1\" class=\"data row24 col1\" >mean</td>\n",
              "            </tr>\n",
              "            <tr>\n",
              "                        <th id=\"T_49295_level0_row25\" class=\"row_heading level0 row25\" >25</th>\n",
              "                        <td id=\"T_49295_row25_col0\" class=\"data row25 col0\" >Iterative Imputation Numeric Model</td>\n",
              "                        <td id=\"T_49295_row25_col1\" class=\"data row25 col1\" >None</td>\n",
              "            </tr>\n",
              "            <tr>\n",
              "                        <th id=\"T_49295_level0_row26\" class=\"row_heading level0 row26\" >26</th>\n",
              "                        <td id=\"T_49295_row26_col0\" class=\"data row26 col0\" >Categorical Imputer</td>\n",
              "                        <td id=\"T_49295_row26_col1\" class=\"data row26 col1\" >constant</td>\n",
              "            </tr>\n",
              "            <tr>\n",
              "                        <th id=\"T_49295_level0_row27\" class=\"row_heading level0 row27\" >27</th>\n",
              "                        <td id=\"T_49295_row27_col0\" class=\"data row27 col0\" >Iterative Imputation Categorical Model</td>\n",
              "                        <td id=\"T_49295_row27_col1\" class=\"data row27 col1\" >None</td>\n",
              "            </tr>\n",
              "            <tr>\n",
              "                        <th id=\"T_49295_level0_row28\" class=\"row_heading level0 row28\" >28</th>\n",
              "                        <td id=\"T_49295_row28_col0\" class=\"data row28 col0\" >Unknown Categoricals Handling</td>\n",
              "                        <td id=\"T_49295_row28_col1\" class=\"data row28 col1\" >least_frequent</td>\n",
              "            </tr>\n",
              "            <tr>\n",
              "                        <th id=\"T_49295_level0_row29\" class=\"row_heading level0 row29\" >29</th>\n",
              "                        <td id=\"T_49295_row29_col0\" class=\"data row29 col0\" >Normalize</td>\n",
              "                        <td id=\"T_49295_row29_col1\" class=\"data row29 col1\" >True</td>\n",
              "            </tr>\n",
              "            <tr>\n",
              "                        <th id=\"T_49295_level0_row30\" class=\"row_heading level0 row30\" >30</th>\n",
              "                        <td id=\"T_49295_row30_col0\" class=\"data row30 col0\" >Normalize Method</td>\n",
              "                        <td id=\"T_49295_row30_col1\" class=\"data row30 col1\" >minmax</td>\n",
              "            </tr>\n",
              "            <tr>\n",
              "                        <th id=\"T_49295_level0_row31\" class=\"row_heading level0 row31\" >31</th>\n",
              "                        <td id=\"T_49295_row31_col0\" class=\"data row31 col0\" >Transformation</td>\n",
              "                        <td id=\"T_49295_row31_col1\" class=\"data row31 col1\" >False</td>\n",
              "            </tr>\n",
              "            <tr>\n",
              "                        <th id=\"T_49295_level0_row32\" class=\"row_heading level0 row32\" >32</th>\n",
              "                        <td id=\"T_49295_row32_col0\" class=\"data row32 col0\" >Transformation Method</td>\n",
              "                        <td id=\"T_49295_row32_col1\" class=\"data row32 col1\" >None</td>\n",
              "            </tr>\n",
              "            <tr>\n",
              "                        <th id=\"T_49295_level0_row33\" class=\"row_heading level0 row33\" >33</th>\n",
              "                        <td id=\"T_49295_row33_col0\" class=\"data row33 col0\" >PCA</td>\n",
              "                        <td id=\"T_49295_row33_col1\" class=\"data row33 col1\" >False</td>\n",
              "            </tr>\n",
              "            <tr>\n",
              "                        <th id=\"T_49295_level0_row34\" class=\"row_heading level0 row34\" >34</th>\n",
              "                        <td id=\"T_49295_row34_col0\" class=\"data row34 col0\" >PCA Method</td>\n",
              "                        <td id=\"T_49295_row34_col1\" class=\"data row34 col1\" >None</td>\n",
              "            </tr>\n",
              "            <tr>\n",
              "                        <th id=\"T_49295_level0_row35\" class=\"row_heading level0 row35\" >35</th>\n",
              "                        <td id=\"T_49295_row35_col0\" class=\"data row35 col0\" >PCA Components</td>\n",
              "                        <td id=\"T_49295_row35_col1\" class=\"data row35 col1\" >None</td>\n",
              "            </tr>\n",
              "            <tr>\n",
              "                        <th id=\"T_49295_level0_row36\" class=\"row_heading level0 row36\" >36</th>\n",
              "                        <td id=\"T_49295_row36_col0\" class=\"data row36 col0\" >Ignore Low Variance</td>\n",
              "                        <td id=\"T_49295_row36_col1\" class=\"data row36 col1\" >False</td>\n",
              "            </tr>\n",
              "            <tr>\n",
              "                        <th id=\"T_49295_level0_row37\" class=\"row_heading level0 row37\" >37</th>\n",
              "                        <td id=\"T_49295_row37_col0\" class=\"data row37 col0\" >Combine Rare Levels</td>\n",
              "                        <td id=\"T_49295_row37_col1\" class=\"data row37 col1\" >False</td>\n",
              "            </tr>\n",
              "            <tr>\n",
              "                        <th id=\"T_49295_level0_row38\" class=\"row_heading level0 row38\" >38</th>\n",
              "                        <td id=\"T_49295_row38_col0\" class=\"data row38 col0\" >Rare Level Threshold</td>\n",
              "                        <td id=\"T_49295_row38_col1\" class=\"data row38 col1\" >None</td>\n",
              "            </tr>\n",
              "            <tr>\n",
              "                        <th id=\"T_49295_level0_row39\" class=\"row_heading level0 row39\" >39</th>\n",
              "                        <td id=\"T_49295_row39_col0\" class=\"data row39 col0\" >Numeric Binning</td>\n",
              "                        <td id=\"T_49295_row39_col1\" class=\"data row39 col1\" >False</td>\n",
              "            </tr>\n",
              "            <tr>\n",
              "                        <th id=\"T_49295_level0_row40\" class=\"row_heading level0 row40\" >40</th>\n",
              "                        <td id=\"T_49295_row40_col0\" class=\"data row40 col0\" >Remove Outliers</td>\n",
              "                        <td id=\"T_49295_row40_col1\" class=\"data row40 col1\" >False</td>\n",
              "            </tr>\n",
              "            <tr>\n",
              "                        <th id=\"T_49295_level0_row41\" class=\"row_heading level0 row41\" >41</th>\n",
              "                        <td id=\"T_49295_row41_col0\" class=\"data row41 col0\" >Outliers Threshold</td>\n",
              "                        <td id=\"T_49295_row41_col1\" class=\"data row41 col1\" >None</td>\n",
              "            </tr>\n",
              "            <tr>\n",
              "                        <th id=\"T_49295_level0_row42\" class=\"row_heading level0 row42\" >42</th>\n",
              "                        <td id=\"T_49295_row42_col0\" class=\"data row42 col0\" >Remove Multicollinearity</td>\n",
              "                        <td id=\"T_49295_row42_col1\" class=\"data row42 col1\" >False</td>\n",
              "            </tr>\n",
              "            <tr>\n",
              "                        <th id=\"T_49295_level0_row43\" class=\"row_heading level0 row43\" >43</th>\n",
              "                        <td id=\"T_49295_row43_col0\" class=\"data row43 col0\" >Multicollinearity Threshold</td>\n",
              "                        <td id=\"T_49295_row43_col1\" class=\"data row43 col1\" >None</td>\n",
              "            </tr>\n",
              "            <tr>\n",
              "                        <th id=\"T_49295_level0_row44\" class=\"row_heading level0 row44\" >44</th>\n",
              "                        <td id=\"T_49295_row44_col0\" class=\"data row44 col0\" >Clustering</td>\n",
              "                        <td id=\"T_49295_row44_col1\" class=\"data row44 col1\" >False</td>\n",
              "            </tr>\n",
              "            <tr>\n",
              "                        <th id=\"T_49295_level0_row45\" class=\"row_heading level0 row45\" >45</th>\n",
              "                        <td id=\"T_49295_row45_col0\" class=\"data row45 col0\" >Clustering Iteration</td>\n",
              "                        <td id=\"T_49295_row45_col1\" class=\"data row45 col1\" >None</td>\n",
              "            </tr>\n",
              "            <tr>\n",
              "                        <th id=\"T_49295_level0_row46\" class=\"row_heading level0 row46\" >46</th>\n",
              "                        <td id=\"T_49295_row46_col0\" class=\"data row46 col0\" >Polynomial Features</td>\n",
              "                        <td id=\"T_49295_row46_col1\" class=\"data row46 col1\" >False</td>\n",
              "            </tr>\n",
              "            <tr>\n",
              "                        <th id=\"T_49295_level0_row47\" class=\"row_heading level0 row47\" >47</th>\n",
              "                        <td id=\"T_49295_row47_col0\" class=\"data row47 col0\" >Polynomial Degree</td>\n",
              "                        <td id=\"T_49295_row47_col1\" class=\"data row47 col1\" >None</td>\n",
              "            </tr>\n",
              "            <tr>\n",
              "                        <th id=\"T_49295_level0_row48\" class=\"row_heading level0 row48\" >48</th>\n",
              "                        <td id=\"T_49295_row48_col0\" class=\"data row48 col0\" >Trignometry Features</td>\n",
              "                        <td id=\"T_49295_row48_col1\" class=\"data row48 col1\" >False</td>\n",
              "            </tr>\n",
              "            <tr>\n",
              "                        <th id=\"T_49295_level0_row49\" class=\"row_heading level0 row49\" >49</th>\n",
              "                        <td id=\"T_49295_row49_col0\" class=\"data row49 col0\" >Polynomial Threshold</td>\n",
              "                        <td id=\"T_49295_row49_col1\" class=\"data row49 col1\" >None</td>\n",
              "            </tr>\n",
              "            <tr>\n",
              "                        <th id=\"T_49295_level0_row50\" class=\"row_heading level0 row50\" >50</th>\n",
              "                        <td id=\"T_49295_row50_col0\" class=\"data row50 col0\" >Group Features</td>\n",
              "                        <td id=\"T_49295_row50_col1\" class=\"data row50 col1\" >False</td>\n",
              "            </tr>\n",
              "            <tr>\n",
              "                        <th id=\"T_49295_level0_row51\" class=\"row_heading level0 row51\" >51</th>\n",
              "                        <td id=\"T_49295_row51_col0\" class=\"data row51 col0\" >Feature Selection</td>\n",
              "                        <td id=\"T_49295_row51_col1\" class=\"data row51 col1\" >False</td>\n",
              "            </tr>\n",
              "            <tr>\n",
              "                        <th id=\"T_49295_level0_row52\" class=\"row_heading level0 row52\" >52</th>\n",
              "                        <td id=\"T_49295_row52_col0\" class=\"data row52 col0\" >Feature Selection Method</td>\n",
              "                        <td id=\"T_49295_row52_col1\" class=\"data row52 col1\" >classic</td>\n",
              "            </tr>\n",
              "            <tr>\n",
              "                        <th id=\"T_49295_level0_row53\" class=\"row_heading level0 row53\" >53</th>\n",
              "                        <td id=\"T_49295_row53_col0\" class=\"data row53 col0\" >Features Selection Threshold</td>\n",
              "                        <td id=\"T_49295_row53_col1\" class=\"data row53 col1\" >None</td>\n",
              "            </tr>\n",
              "            <tr>\n",
              "                        <th id=\"T_49295_level0_row54\" class=\"row_heading level0 row54\" >54</th>\n",
              "                        <td id=\"T_49295_row54_col0\" class=\"data row54 col0\" >Feature Interaction</td>\n",
              "                        <td id=\"T_49295_row54_col1\" class=\"data row54 col1\" >False</td>\n",
              "            </tr>\n",
              "            <tr>\n",
              "                        <th id=\"T_49295_level0_row55\" class=\"row_heading level0 row55\" >55</th>\n",
              "                        <td id=\"T_49295_row55_col0\" class=\"data row55 col0\" >Feature Ratio</td>\n",
              "                        <td id=\"T_49295_row55_col1\" class=\"data row55 col1\" >False</td>\n",
              "            </tr>\n",
              "            <tr>\n",
              "                        <th id=\"T_49295_level0_row56\" class=\"row_heading level0 row56\" >56</th>\n",
              "                        <td id=\"T_49295_row56_col0\" class=\"data row56 col0\" >Interaction Threshold</td>\n",
              "                        <td id=\"T_49295_row56_col1\" class=\"data row56 col1\" >None</td>\n",
              "            </tr>\n",
              "            <tr>\n",
              "                        <th id=\"T_49295_level0_row57\" class=\"row_heading level0 row57\" >57</th>\n",
              "                        <td id=\"T_49295_row57_col0\" class=\"data row57 col0\" >Fix Imbalance</td>\n",
              "                        <td id=\"T_49295_row57_col1\" class=\"data row57 col1\" >True</td>\n",
              "            </tr>\n",
              "            <tr>\n",
              "                        <th id=\"T_49295_level0_row58\" class=\"row_heading level0 row58\" >58</th>\n",
              "                        <td id=\"T_49295_row58_col0\" class=\"data row58 col0\" >Fix Imbalance Method</td>\n",
              "                        <td id=\"T_49295_row58_col1\" class=\"data row58 col1\" >SMOTE</td>\n",
              "            </tr>\n",
              "    </tbody></table>"
            ],
            "text/plain": [
              "<pandas.io.formats.style.Styler at 0x2108652a370>"
            ]
          },
          "metadata": {
            "tags": []
          }
        }
      ]
    },
    {
      "cell_type": "markdown",
      "metadata": {
        "id": "EqRVrOD0a-Kv"
      },
      "source": [
        " High-performance gradient boosting framework is used here and got the recall 0.973 ."
      ],
      "id": "EqRVrOD0a-Kv"
    },
    {
      "cell_type": "code",
      "metadata": {
        "ExecuteTime": {
          "end_time": "2021-07-28T08:40:04.693283Z",
          "start_time": "2021-07-28T08:37:54.312418Z"
        },
        "id": "9d8aea55",
        "outputId": "f2c0c758-0ea5-46ae-c4fa-a037ed8c340f"
      },
      "source": [
        "# comparing models\n",
        "best_model=compare_models(include=['lightgbm'],\n",
        "                          round=3,\n",
        "                          sort='Recall')"
      ],
      "id": "9d8aea55",
      "execution_count": null,
      "outputs": [
        {
          "output_type": "display_data",
          "data": {
            "text/html": [
              "<style  type=\"text/css\" >\n",
              "    #T_5a995_ th {\n",
              "          text-align: left;\n",
              "    }#T_5a995_row0_col0{\n",
              "            text-align:  left;\n",
              "            text-align:  left;\n",
              "        }#T_5a995_row0_col1,#T_5a995_row0_col2,#T_5a995_row0_col3,#T_5a995_row0_col4,#T_5a995_row0_col5,#T_5a995_row0_col6,#T_5a995_row0_col7{\n",
              "            text-align:  left;\n",
              "            text-align:  left;\n",
              "            background-color:  yellow;\n",
              "        }#T_5a995_row0_col8{\n",
              "            text-align:  left;\n",
              "            text-align:  left;\n",
              "            background-color:  yellow;\n",
              "            background-color:  lightgrey;\n",
              "        }</style><table id=\"T_5a995_\" ><thead>    <tr>        <th class=\"blank level0\" ></th>        <th class=\"col_heading level0 col0\" >Model</th>        <th class=\"col_heading level0 col1\" >Accuracy</th>        <th class=\"col_heading level0 col2\" >AUC</th>        <th class=\"col_heading level0 col3\" >Recall</th>        <th class=\"col_heading level0 col4\" >Prec.</th>        <th class=\"col_heading level0 col5\" >F1</th>        <th class=\"col_heading level0 col6\" >Kappa</th>        <th class=\"col_heading level0 col7\" >MCC</th>        <th class=\"col_heading level0 col8\" >TT (Sec)</th>    </tr></thead><tbody>\n",
              "                <tr>\n",
              "                        <th id=\"T_5a995_level0_row0\" class=\"row_heading level0 row0\" >lightgbm</th>\n",
              "                        <td id=\"T_5a995_row0_col0\" class=\"data row0 col0\" >Light Gradient Boosting Machine</td>\n",
              "                        <td id=\"T_5a995_row0_col1\" class=\"data row0 col1\" >0.973</td>\n",
              "                        <td id=\"T_5a995_row0_col2\" class=\"data row0 col2\" >0.997</td>\n",
              "                        <td id=\"T_5a995_row0_col3\" class=\"data row0 col3\" >0.973</td>\n",
              "                        <td id=\"T_5a995_row0_col4\" class=\"data row0 col4\" >0.045</td>\n",
              "                        <td id=\"T_5a995_row0_col5\" class=\"data row0 col5\" >0.085</td>\n",
              "                        <td id=\"T_5a995_row0_col6\" class=\"data row0 col6\" >0.083</td>\n",
              "                        <td id=\"T_5a995_row0_col7\" class=\"data row0 col7\" >0.205</td>\n",
              "                        <td id=\"T_5a995_row0_col8\" class=\"data row0 col8\" >21.364</td>\n",
              "            </tr>\n",
              "    </tbody></table>"
            ],
            "text/plain": [
              "<pandas.io.formats.style.Styler at 0x21083f71c70>"
            ]
          },
          "metadata": {
            "tags": []
          }
        }
      ]
    },
    {
      "cell_type": "code",
      "metadata": {
        "ExecuteTime": {
          "end_time": "2021-07-28T08:48:47.599588Z",
          "start_time": "2021-07-28T08:41:47.915951Z"
        },
        "id": "8dfd7de3",
        "outputId": "9cbaa7d0-7ac8-47ab-afbb-4ea199800250"
      },
      "source": [
        "# hyperparameter tuning\n",
        "tuned_best_model=tune_model(best_model,\n",
        "                            round=3,\n",
        "                            n_iter=2,\n",
        "                            optimize='Recall')"
      ],
      "id": "8dfd7de3",
      "execution_count": null,
      "outputs": [
        {
          "output_type": "display_data",
          "data": {
            "text/html": [
              "<style  type=\"text/css\" >\n",
              "#T_660ce_row5_col0,#T_660ce_row5_col1,#T_660ce_row5_col2,#T_660ce_row5_col3,#T_660ce_row5_col4,#T_660ce_row5_col5,#T_660ce_row5_col6{\n",
              "            background:  yellow;\n",
              "        }</style><table id=\"T_660ce_\" ><thead>    <tr>        <th class=\"blank level0\" ></th>        <th class=\"col_heading level0 col0\" >Accuracy</th>        <th class=\"col_heading level0 col1\" >AUC</th>        <th class=\"col_heading level0 col2\" >Recall</th>        <th class=\"col_heading level0 col3\" >Prec.</th>        <th class=\"col_heading level0 col4\" >F1</th>        <th class=\"col_heading level0 col5\" >Kappa</th>        <th class=\"col_heading level0 col6\" >MCC</th>    </tr></thead><tbody>\n",
              "                <tr>\n",
              "                        <th id=\"T_660ce_level0_row0\" class=\"row_heading level0 row0\" >0</th>\n",
              "                        <td id=\"T_660ce_row0_col0\" class=\"data row0 col0\" >0.966</td>\n",
              "                        <td id=\"T_660ce_row0_col1\" class=\"data row0 col1\" >0.996</td>\n",
              "                        <td id=\"T_660ce_row0_col2\" class=\"data row0 col2\" >0.976</td>\n",
              "                        <td id=\"T_660ce_row0_col3\" class=\"data row0 col3\" >0.036</td>\n",
              "                        <td id=\"T_660ce_row0_col4\" class=\"data row0 col4\" >0.070</td>\n",
              "                        <td id=\"T_660ce_row0_col5\" class=\"data row0 col5\" >0.067</td>\n",
              "                        <td id=\"T_660ce_row0_col6\" class=\"data row0 col6\" >0.184</td>\n",
              "            </tr>\n",
              "            <tr>\n",
              "                        <th id=\"T_660ce_level0_row1\" class=\"row_heading level0 row1\" >1</th>\n",
              "                        <td id=\"T_660ce_row1_col0\" class=\"data row1 col0\" >0.965</td>\n",
              "                        <td id=\"T_660ce_row1_col1\" class=\"data row1 col1\" >0.996</td>\n",
              "                        <td id=\"T_660ce_row1_col2\" class=\"data row1 col2\" >0.977</td>\n",
              "                        <td id=\"T_660ce_row1_col3\" class=\"data row1 col3\" >0.035</td>\n",
              "                        <td id=\"T_660ce_row1_col4\" class=\"data row1 col4\" >0.067</td>\n",
              "                        <td id=\"T_660ce_row1_col5\" class=\"data row1 col5\" >0.065</td>\n",
              "                        <td id=\"T_660ce_row1_col6\" class=\"data row1 col6\" >0.181</td>\n",
              "            </tr>\n",
              "            <tr>\n",
              "                        <th id=\"T_660ce_level0_row2\" class=\"row_heading level0 row2\" >2</th>\n",
              "                        <td id=\"T_660ce_row2_col0\" class=\"data row2 col0\" >0.965</td>\n",
              "                        <td id=\"T_660ce_row2_col1\" class=\"data row2 col1\" >0.996</td>\n",
              "                        <td id=\"T_660ce_row2_col2\" class=\"data row2 col2\" >0.967</td>\n",
              "                        <td id=\"T_660ce_row2_col3\" class=\"data row2 col3\" >0.035</td>\n",
              "                        <td id=\"T_660ce_row2_col4\" class=\"data row2 col4\" >0.067</td>\n",
              "                        <td id=\"T_660ce_row2_col5\" class=\"data row2 col5\" >0.065</td>\n",
              "                        <td id=\"T_660ce_row2_col6\" class=\"data row2 col6\" >0.180</td>\n",
              "            </tr>\n",
              "            <tr>\n",
              "                        <th id=\"T_660ce_level0_row3\" class=\"row_heading level0 row3\" >3</th>\n",
              "                        <td id=\"T_660ce_row3_col0\" class=\"data row3 col0\" >0.965</td>\n",
              "                        <td id=\"T_660ce_row3_col1\" class=\"data row3 col1\" >0.996</td>\n",
              "                        <td id=\"T_660ce_row3_col2\" class=\"data row3 col2\" >0.970</td>\n",
              "                        <td id=\"T_660ce_row3_col3\" class=\"data row3 col3\" >0.035</td>\n",
              "                        <td id=\"T_660ce_row3_col4\" class=\"data row3 col4\" >0.067</td>\n",
              "                        <td id=\"T_660ce_row3_col5\" class=\"data row3 col5\" >0.064</td>\n",
              "                        <td id=\"T_660ce_row3_col6\" class=\"data row3 col6\" >0.180</td>\n",
              "            </tr>\n",
              "            <tr>\n",
              "                        <th id=\"T_660ce_level0_row4\" class=\"row_heading level0 row4\" >4</th>\n",
              "                        <td id=\"T_660ce_row4_col0\" class=\"data row4 col0\" >0.963</td>\n",
              "                        <td id=\"T_660ce_row4_col1\" class=\"data row4 col1\" >0.997</td>\n",
              "                        <td id=\"T_660ce_row4_col2\" class=\"data row4 col2\" >0.979</td>\n",
              "                        <td id=\"T_660ce_row4_col3\" class=\"data row4 col3\" >0.033</td>\n",
              "                        <td id=\"T_660ce_row4_col4\" class=\"data row4 col4\" >0.065</td>\n",
              "                        <td id=\"T_660ce_row4_col5\" class=\"data row4 col5\" >0.062</td>\n",
              "                        <td id=\"T_660ce_row4_col6\" class=\"data row4 col6\" >0.177</td>\n",
              "            </tr>\n",
              "            <tr>\n",
              "                        <th id=\"T_660ce_level0_row5\" class=\"row_heading level0 row5\" >Mean</th>\n",
              "                        <td id=\"T_660ce_row5_col0\" class=\"data row5 col0\" >0.965</td>\n",
              "                        <td id=\"T_660ce_row5_col1\" class=\"data row5 col1\" >0.996</td>\n",
              "                        <td id=\"T_660ce_row5_col2\" class=\"data row5 col2\" >0.974</td>\n",
              "                        <td id=\"T_660ce_row5_col3\" class=\"data row5 col3\" >0.035</td>\n",
              "                        <td id=\"T_660ce_row5_col4\" class=\"data row5 col4\" >0.067</td>\n",
              "                        <td id=\"T_660ce_row5_col5\" class=\"data row5 col5\" >0.065</td>\n",
              "                        <td id=\"T_660ce_row5_col6\" class=\"data row5 col6\" >0.180</td>\n",
              "            </tr>\n",
              "            <tr>\n",
              "                        <th id=\"T_660ce_level0_row6\" class=\"row_heading level0 row6\" >SD</th>\n",
              "                        <td id=\"T_660ce_row6_col0\" class=\"data row6 col0\" >0.001</td>\n",
              "                        <td id=\"T_660ce_row6_col1\" class=\"data row6 col1\" >0.001</td>\n",
              "                        <td id=\"T_660ce_row6_col2\" class=\"data row6 col2\" >0.005</td>\n",
              "                        <td id=\"T_660ce_row6_col3\" class=\"data row6 col3\" >0.001</td>\n",
              "                        <td id=\"T_660ce_row6_col4\" class=\"data row6 col4\" >0.002</td>\n",
              "                        <td id=\"T_660ce_row6_col5\" class=\"data row6 col5\" >0.002</td>\n",
              "                        <td id=\"T_660ce_row6_col6\" class=\"data row6 col6\" >0.002</td>\n",
              "            </tr>\n",
              "    </tbody></table>"
            ],
            "text/plain": [
              "<pandas.io.formats.style.Styler at 0x21083ebdd00>"
            ]
          },
          "metadata": {
            "tags": []
          }
        }
      ]
    },
    {
      "cell_type": "code",
      "metadata": {
        "ExecuteTime": {
          "end_time": "2021-07-28T08:49:37.971000Z",
          "start_time": "2021-07-28T08:49:27.959841Z"
        },
        "id": "763eec0a",
        "outputId": "418079c4-259b-47ef-fa1d-c2bd14182e12"
      },
      "source": [
        "# predicting on validation set\n",
        "predict_model(tuned_best_model)"
      ],
      "id": "763eec0a",
      "execution_count": null,
      "outputs": [
        {
          "output_type": "display_data",
          "data": {
            "text/html": [
              "<style  type=\"text/css\" >\n",
              "</style><table id=\"T_6780a_\" ><thead>    <tr>        <th class=\"blank level0\" ></th>        <th class=\"col_heading level0 col0\" >Model</th>        <th class=\"col_heading level0 col1\" >Accuracy</th>        <th class=\"col_heading level0 col2\" >AUC</th>        <th class=\"col_heading level0 col3\" >Recall</th>        <th class=\"col_heading level0 col4\" >Prec.</th>        <th class=\"col_heading level0 col5\" >F1</th>        <th class=\"col_heading level0 col6\" >Kappa</th>        <th class=\"col_heading level0 col7\" >MCC</th>    </tr></thead><tbody>\n",
              "                <tr>\n",
              "                        <th id=\"T_6780a_level0_row0\" class=\"row_heading level0 row0\" >0</th>\n",
              "                        <td id=\"T_6780a_row0_col0\" class=\"data row0 col0\" >Light Gradient Boosting Machine</td>\n",
              "                        <td id=\"T_6780a_row0_col1\" class=\"data row0 col1\" >0.9657</td>\n",
              "                        <td id=\"T_6780a_row0_col2\" class=\"data row0 col2\" >0.9968</td>\n",
              "                        <td id=\"T_6780a_row0_col3\" class=\"data row0 col3\" >0.9777</td>\n",
              "                        <td id=\"T_6780a_row0_col4\" class=\"data row0 col4\" >0.0355</td>\n",
              "                        <td id=\"T_6780a_row0_col5\" class=\"data row0 col5\" >0.0686</td>\n",
              "                        <td id=\"T_6780a_row0_col6\" class=\"data row0 col6\" >0.0662</td>\n",
              "                        <td id=\"T_6780a_row0_col7\" class=\"data row0 col7\" >0.1830</td>\n",
              "            </tr>\n",
              "    </tbody></table>"
            ],
            "text/plain": [
              "<pandas.io.formats.style.Styler at 0x21083ef2040>"
            ]
          },
          "metadata": {
            "tags": []
          }
        },
        {
          "output_type": "execute_result",
          "data": {
            "text/html": [
              "<div>\n",
              "<style scoped>\n",
              "    .dataframe tbody tr th:only-of-type {\n",
              "        vertical-align: middle;\n",
              "    }\n",
              "\n",
              "    .dataframe tbody tr th {\n",
              "        vertical-align: top;\n",
              "    }\n",
              "\n",
              "    .dataframe thead th {\n",
              "        text-align: right;\n",
              "    }\n",
              "</style>\n",
              "<table border=\"1\" class=\"dataframe\">\n",
              "  <thead>\n",
              "    <tr style=\"text-align: right;\">\n",
              "      <th></th>\n",
              "      <th>step</th>\n",
              "      <th>amount</th>\n",
              "      <th>balanceOrgDiff</th>\n",
              "      <th>balanceDestDiff</th>\n",
              "      <th>type_CASH_IN</th>\n",
              "      <th>type_CASH_OUT</th>\n",
              "      <th>type_DEBIT</th>\n",
              "      <th>type_PAYMENT</th>\n",
              "      <th>type_TRANSFER</th>\n",
              "      <th>isFlaggedFraud_0</th>\n",
              "      <th>isFraud</th>\n",
              "      <th>Label</th>\n",
              "      <th>Score</th>\n",
              "    </tr>\n",
              "  </thead>\n",
              "  <tbody>\n",
              "    <tr>\n",
              "      <th>0</th>\n",
              "      <td>0.305930</td>\n",
              "      <td>0.000866</td>\n",
              "      <td>0.845932</td>\n",
              "      <td>0.059079</td>\n",
              "      <td>0.0</td>\n",
              "      <td>1.0</td>\n",
              "      <td>0.0</td>\n",
              "      <td>0.0</td>\n",
              "      <td>0.0</td>\n",
              "      <td>1.0</td>\n",
              "      <td>0</td>\n",
              "      <td>0</td>\n",
              "      <td>0.5000</td>\n",
              "    </tr>\n",
              "    <tr>\n",
              "      <th>1</th>\n",
              "      <td>0.479784</td>\n",
              "      <td>0.001295</td>\n",
              "      <td>0.845023</td>\n",
              "      <td>0.059451</td>\n",
              "      <td>0.0</td>\n",
              "      <td>1.0</td>\n",
              "      <td>0.0</td>\n",
              "      <td>0.0</td>\n",
              "      <td>0.0</td>\n",
              "      <td>1.0</td>\n",
              "      <td>0</td>\n",
              "      <td>0</td>\n",
              "      <td>0.5000</td>\n",
              "    </tr>\n",
              "    <tr>\n",
              "      <th>2</th>\n",
              "      <td>0.207547</td>\n",
              "      <td>0.000143</td>\n",
              "      <td>0.845932</td>\n",
              "      <td>0.058328</td>\n",
              "      <td>0.0</td>\n",
              "      <td>0.0</td>\n",
              "      <td>0.0</td>\n",
              "      <td>1.0</td>\n",
              "      <td>0.0</td>\n",
              "      <td>1.0</td>\n",
              "      <td>0</td>\n",
              "      <td>0</td>\n",
              "      <td>0.5001</td>\n",
              "    </tr>\n",
              "    <tr>\n",
              "      <th>3</th>\n",
              "      <td>0.287062</td>\n",
              "      <td>0.001490</td>\n",
              "      <td>0.857584</td>\n",
              "      <td>0.058190</td>\n",
              "      <td>1.0</td>\n",
              "      <td>0.0</td>\n",
              "      <td>0.0</td>\n",
              "      <td>0.0</td>\n",
              "      <td>0.0</td>\n",
              "      <td>1.0</td>\n",
              "      <td>0</td>\n",
              "      <td>0</td>\n",
              "      <td>0.5001</td>\n",
              "    </tr>\n",
              "    <tr>\n",
              "      <th>4</th>\n",
              "      <td>0.508086</td>\n",
              "      <td>0.001688</td>\n",
              "      <td>0.845932</td>\n",
              "      <td>0.059792</td>\n",
              "      <td>0.0</td>\n",
              "      <td>1.0</td>\n",
              "      <td>0.0</td>\n",
              "      <td>0.0</td>\n",
              "      <td>0.0</td>\n",
              "      <td>1.0</td>\n",
              "      <td>0</td>\n",
              "      <td>0</td>\n",
              "      <td>0.5000</td>\n",
              "    </tr>\n",
              "    <tr>\n",
              "      <th>...</th>\n",
              "      <td>...</td>\n",
              "      <td>...</td>\n",
              "      <td>...</td>\n",
              "      <td>...</td>\n",
              "      <td>...</td>\n",
              "      <td>...</td>\n",
              "      <td>...</td>\n",
              "      <td>...</td>\n",
              "      <td>...</td>\n",
              "      <td>...</td>\n",
              "      <td>...</td>\n",
              "      <td>...</td>\n",
              "      <td>...</td>\n",
              "    </tr>\n",
              "    <tr>\n",
              "      <th>1908782</th>\n",
              "      <td>0.061995</td>\n",
              "      <td>0.000796</td>\n",
              "      <td>0.852153</td>\n",
              "      <td>0.057637</td>\n",
              "      <td>1.0</td>\n",
              "      <td>0.0</td>\n",
              "      <td>0.0</td>\n",
              "      <td>0.0</td>\n",
              "      <td>0.0</td>\n",
              "      <td>1.0</td>\n",
              "      <td>0</td>\n",
              "      <td>0</td>\n",
              "      <td>0.5001</td>\n",
              "    </tr>\n",
              "    <tr>\n",
              "      <th>1908783</th>\n",
              "      <td>0.253369</td>\n",
              "      <td>0.000493</td>\n",
              "      <td>0.842077</td>\n",
              "      <td>0.058755</td>\n",
              "      <td>0.0</td>\n",
              "      <td>0.0</td>\n",
              "      <td>0.0</td>\n",
              "      <td>0.0</td>\n",
              "      <td>1.0</td>\n",
              "      <td>1.0</td>\n",
              "      <td>0</td>\n",
              "      <td>0</td>\n",
              "      <td>0.5000</td>\n",
              "    </tr>\n",
              "    <tr>\n",
              "      <th>1908784</th>\n",
              "      <td>0.181941</td>\n",
              "      <td>0.000077</td>\n",
              "      <td>0.845333</td>\n",
              "      <td>0.058328</td>\n",
              "      <td>0.0</td>\n",
              "      <td>0.0</td>\n",
              "      <td>0.0</td>\n",
              "      <td>1.0</td>\n",
              "      <td>0.0</td>\n",
              "      <td>1.0</td>\n",
              "      <td>0</td>\n",
              "      <td>0</td>\n",
              "      <td>0.5001</td>\n",
              "    </tr>\n",
              "    <tr>\n",
              "      <th>1908785</th>\n",
              "      <td>0.012129</td>\n",
              "      <td>0.000203</td>\n",
              "      <td>0.844346</td>\n",
              "      <td>0.058328</td>\n",
              "      <td>0.0</td>\n",
              "      <td>0.0</td>\n",
              "      <td>0.0</td>\n",
              "      <td>1.0</td>\n",
              "      <td>0.0</td>\n",
              "      <td>1.0</td>\n",
              "      <td>0</td>\n",
              "      <td>0</td>\n",
              "      <td>0.5001</td>\n",
              "    </tr>\n",
              "    <tr>\n",
              "      <th>1908786</th>\n",
              "      <td>0.378706</td>\n",
              "      <td>0.000954</td>\n",
              "      <td>0.853394</td>\n",
              "      <td>0.057500</td>\n",
              "      <td>1.0</td>\n",
              "      <td>0.0</td>\n",
              "      <td>0.0</td>\n",
              "      <td>0.0</td>\n",
              "      <td>0.0</td>\n",
              "      <td>1.0</td>\n",
              "      <td>0</td>\n",
              "      <td>0</td>\n",
              "      <td>0.5001</td>\n",
              "    </tr>\n",
              "  </tbody>\n",
              "</table>\n",
              "<p>1908787 rows × 13 columns</p>\n",
              "</div>"
            ],
            "text/plain": [
              "             step    amount  balanceOrgDiff  balanceDestDiff  type_CASH_IN  type_CASH_OUT  type_DEBIT  type_PAYMENT  type_TRANSFER  isFlaggedFraud_0 isFraud  Label   Score\n",
              "0        0.305930  0.000866        0.845932         0.059079           0.0            1.0         0.0           0.0            0.0               1.0       0      0  0.5000\n",
              "1        0.479784  0.001295        0.845023         0.059451           0.0            1.0         0.0           0.0            0.0               1.0       0      0  0.5000\n",
              "2        0.207547  0.000143        0.845932         0.058328           0.0            0.0         0.0           1.0            0.0               1.0       0      0  0.5001\n",
              "3        0.287062  0.001490        0.857584         0.058190           1.0            0.0         0.0           0.0            0.0               1.0       0      0  0.5001\n",
              "4        0.508086  0.001688        0.845932         0.059792           0.0            1.0         0.0           0.0            0.0               1.0       0      0  0.5000\n",
              "...           ...       ...             ...              ...           ...            ...         ...           ...            ...               ...     ...    ...     ...\n",
              "1908782  0.061995  0.000796        0.852153         0.057637           1.0            0.0         0.0           0.0            0.0               1.0       0      0  0.5001\n",
              "1908783  0.253369  0.000493        0.842077         0.058755           0.0            0.0         0.0           0.0            1.0               1.0       0      0  0.5000\n",
              "1908784  0.181941  0.000077        0.845333         0.058328           0.0            0.0         0.0           1.0            0.0               1.0       0      0  0.5001\n",
              "1908785  0.012129  0.000203        0.844346         0.058328           0.0            0.0         0.0           1.0            0.0               1.0       0      0  0.5001\n",
              "1908786  0.378706  0.000954        0.853394         0.057500           1.0            0.0         0.0           0.0            0.0               1.0       0      0  0.5001\n",
              "\n",
              "[1908787 rows x 13 columns]"
            ]
          },
          "metadata": {
            "tags": []
          },
          "execution_count": 27
        }
      ]
    },
    {
      "cell_type": "code",
      "metadata": {
        "ExecuteTime": {
          "end_time": "2021-07-28T08:49:50.954810Z",
          "start_time": "2021-07-28T08:49:50.217609Z"
        },
        "id": "ed7c7284",
        "outputId": "4d10469f-ad8d-479f-e2e6-3c953494874f"
      },
      "source": [
        "# feature importance\n",
        "plot_model(tuned_best_model,plot='feature_all')"
      ],
      "id": "ed7c7284",
      "execution_count": null,
      "outputs": [
        {
          "output_type": "display_data",
          "data": {
            "image/png": "[encoded data removed]",
            "text/plain": [
              "<Figure size 800x500 with 1 Axes>"
            ]
          },
          "metadata": {
            "tags": []
          }
        }
      ]
    },
    {
      "cell_type": "markdown",
      "metadata": {
        "id": "9acf9316"
      },
      "source": [
        "- We can see the least important feature is **isFlaggedFraud** and features we\n",
        "created turns out to be important for regressor model.\n",
        "- key factors that predict fraudulent customer are if number of steps and the amount of transaction is more so there are more number of chances of fraud.\n",
        "- At the time CASH_OUT and TRANSFER fraud is happning so have to be carefull that time.\n",
        "- For prevention we have to carefull and consider that fraud can happen when large amount of transaction is happening from newbalanceDest through perticular type.\n",
        "- When these actions have been implemented we will able to track the perticular type of transactions if there are some doubts. Using the model we can perdict the fraud transaction and able to give more attention to these type of transactions in future to prevent this."
      ],
      "id": "9acf9316"
    },
    {
      "cell_type": "code",
      "metadata": {
        "id": "6nlCZAmQdxAB"
      },
      "source": [],
      "id": "6nlCZAmQdxAB",
      "execution_count": null,
      "outputs": []
    }
  ]
}